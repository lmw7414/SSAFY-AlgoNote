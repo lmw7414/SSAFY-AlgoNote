{
 "cells": [
  {
   "cell_type": "code",
   "execution_count": 28,
   "metadata": {},
   "outputs": [],
   "source": [
    "import random\n",
    "from glob import glob\n",
    "import os"
   ]
  },
  {
   "cell_type": "code",
   "execution_count": 29,
   "metadata": {},
   "outputs": [],
   "source": [
    "def split_list(data, ratio=0.8):\n",
    "    train_size = int(len(data) * ratio)\n",
    "    train_data = random.sample(data, train_size)\n",
    "    test_data = [item for item in data if item not in train_data]\n",
    "\n",
    "    return train_data, test_data\n",
    "\n",
    "def make_train_test(path, method, dataset_dict):\n",
    "    \n",
    "    with open(os.path.join(path,method)+\".txt\", \"w\") as f:\n",
    "        for member_id, problems in dataset_dict.items():\n",
    "            f.write(f\"{member_id} {' '.join(problems[method])}\\n\")\n"
   ]
  },
  {
   "cell_type": "code",
   "execution_count": 30,
   "metadata": {},
   "outputs": [
    {
     "name": "stdout",
     "output_type": "stream",
     "text": [
      "['./Data/baekjoon\\\\arithmetic', './Data/baekjoon\\\\backtracking', './Data/baekjoon\\\\bfs', './Data/baekjoon\\\\binary_search', './Data/baekjoon\\\\bitmask', './Data/baekjoon\\\\bruteforcing', './Data/baekjoon\\\\data_structures', './Data/baekjoon\\\\deque', './Data/baekjoon\\\\dfs', './Data/baekjoon\\\\dijkstra', './Data/baekjoon\\\\divide_and_conquer', './Data/baekjoon\\\\dp', './Data/baekjoon\\\\floyd_warshall', './Data/baekjoon\\\\graphs', './Data/baekjoon\\\\graph_traversal', './Data/baekjoon\\\\greedy', './Data/baekjoon\\\\hashing', './Data/baekjoon\\\\implementation', './Data/baekjoon\\\\kmp', './Data/baekjoon\\\\knapsack', './Data/baekjoon\\\\lca', './Data/baekjoon\\\\manacher', './Data/baekjoon\\\\math', './Data/baekjoon\\\\mst', './Data/baekjoon\\\\parametric_search', './Data/baekjoon\\\\prefix_sum', './Data/baekjoon\\\\primality_test', './Data/baekjoon\\\\priority_queue', './Data/baekjoon\\\\queue', './Data/baekjoon\\\\rabin_karp', './Data/baekjoon\\\\recursion', './Data/baekjoon\\\\segtree', './Data/baekjoon\\\\shortest_path', './Data/baekjoon\\\\sieve', './Data/baekjoon\\\\simulation', './Data/baekjoon\\\\sliding_window', './Data/baekjoon\\\\sorting', './Data/baekjoon\\\\stack', './Data/baekjoon\\\\string', './Data/baekjoon\\\\topological_sorting', './Data/baekjoon\\\\tree_set', './Data/baekjoon\\\\trie', './Data/baekjoon\\\\tsp', './Data/baekjoon\\\\two_pointer']\n"
     ]
    }
   ],
   "source": [
    "folders = glob(\"./Data/baekjoon/*\")\n",
    "print(folders)\n"
   ]
  },
  {
   "cell_type": "code",
   "execution_count": 32,
   "metadata": {},
   "outputs": [],
   "source": [
    "for folder in folders:\n",
    "    dataset_path = f\"{folder}/dataset.txt\"\n",
    "    # print(dataset_path)\n",
    "    dataset_dict = {}\n",
    "    with open(dataset_path, \"r\") as f:\n",
    "        lines = f.readlines()\n",
    "        for line in lines:\n",
    "            member_id = line.split()[0]\n",
    "            problems = line.split()[1:]\n",
    "            train_data, test_data = split_list(problems)\n",
    "            dataset_dict[member_id] = {\"train\": train_data, \"test\": test_data}\n",
    "    \n",
    "    make_train_test(folder, \"train\", dataset_dict)\n",
    "    make_train_test(folder, \"test\",dataset_dict)\n"
   ]
  },
  {
   "cell_type": "code",
   "execution_count": null,
   "metadata": {},
   "outputs": [],
   "source": []
  }
 ],
 "metadata": {
  "kernelspec": {
   "display_name": "torch",
   "language": "python",
   "name": "python3"
  },
  "language_info": {
   "codemirror_mode": {
    "name": "ipython",
    "version": 3
   },
   "file_extension": ".py",
   "mimetype": "text/x-python",
   "name": "python",
   "nbconvert_exporter": "python",
   "pygments_lexer": "ipython3",
   "version": "3.10.13"
  }
 },
 "nbformat": 4,
 "nbformat_minor": 2
}
