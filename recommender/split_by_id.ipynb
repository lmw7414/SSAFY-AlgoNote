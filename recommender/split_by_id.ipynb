{
 "cells": [
  {
   "cell_type": "code",
   "execution_count": 1,
   "metadata": {},
   "outputs": [
    {
     "name": "stderr",
     "output_type": "stream",
     "text": [
      "100%|██████████| 10/10 [01:20<00:00,  8.01s/it]\n"
     ]
    }
   ],
   "source": [
    "import pymysql\n",
    "\n",
    "from glob import glob\n",
    "import pandas as pd\n",
    "from tqdm import tqdm\n",
    "\n",
    "connection = pymysql.connect(\n",
    "    \n",
    "    host='k10b203.p.ssafy.io',\n",
    "    user='b203',\n",
    "    password='b203203!',\n",
    "    db='algonote',\n",
    "    charset='utf8mb4',\n",
    "    cursorclass=pymysql.cursors.DictCursor\n",
    ")\n",
    "\n",
    "sql = '''\n",
    "SELECT tag.name_en\n",
    "FROM problem\n",
    "JOIN problem_tag ON problem.id = problem_tag.problem_id\n",
    "JOIN tag ON problem_tag.tag_id = tag.id\n",
    "WHERE problem.id = {0}\n",
    "  AND tag.name_en IN ('math', 'arithmetic', 'primality_test', 'sieve', 'graphs', 'graph_traversal',\n",
    "                      'bfs', 'dfs', 'shortest_path', 'mst', 'topological_sorting', 'dijkstra',\n",
    "                      'floyd_warshall', 'tsp', 'lca', 'data_structures', 'segtree', 'hast_set',\n",
    "                      'prefix_sum', 'stack', 'queue', 'hashing', 'priority_queue', 'deque', 'trie',\n",
    "                      'tree_set', 'dp', 'greedy', 'divide_and_conquer', 'binary_search', 'parametric_search',\n",
    "                      'knapsack', 'lls', 'recursion', 'two_pointer', 'implementation', 'simulation',\n",
    "                      'string', 'kmp', 'sorting', 'bruteforcing', 'backtracking', 'bitmask',\n",
    "                      'sliding_window', 'manacher', 'rabin_karp');\n",
    "'''\n",
    "files = glob('./rank/*.csv')\n",
    "\n",
    "for file in tqdm(files[:10]):\n",
    "    df = pd.read_csv(file)\n",
    "    \n",
    "    result_df = pd.DataFrame(columns=['memberId', 'problemId', 'tag'])\n",
    "\n",
    "    for idx, element in df.iterrows():\n",
    "        \n",
    "        with connection.cursor() as cursor:\n",
    "            \n",
    "            cursor.execute(sql.format(element['solved']))\n",
    "            result = cursor.fetchall()\n",
    "            for row in result:\n",
    "                \n",
    "\n",
    "                result_df = pd.concat([result_df, pd.DataFrame({'memberId': element['id'], 'problemId': element['solved'], 'tag': row['name_en']},index=[0])], ignore_index=True)\n",
    "\n",
    "    filename = f'./tag/tag_{file.split(\"_\")[-1]}'\n",
    "    result_df.to_csv(filename, index=False)"
   ]
  },
  {
   "cell_type": "code",
   "execution_count": null,
   "metadata": {},
   "outputs": [],
   "source": []
  }
 ],
 "metadata": {
  "kernelspec": {
   "display_name": "torch",
   "language": "python",
   "name": "python3"
  },
  "language_info": {
   "codemirror_mode": {
    "name": "ipython",
    "version": 3
   },
   "file_extension": ".py",
   "mimetype": "text/x-python",
   "name": "python",
   "nbconvert_exporter": "python",
   "pygments_lexer": "ipython3",
   "version": "3.10.13"
  }
 },
 "nbformat": 4,
 "nbformat_minor": 2
}
